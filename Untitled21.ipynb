{
 "cells": [
  {
   "cell_type": "markdown",
   "id": "ff6191ad-5923-4cbf-8860-47367eb8a189",
   "metadata": {},
   "source": [
    "## Q1. List any five functions of the pandas library with execution."
   ]
  },
  {
   "cell_type": "code",
   "execution_count": null,
   "id": "b86a2ad0-1cdf-4d1c-ac6a-21c8bd5c1c5f",
   "metadata": {},
   "outputs": [],
   "source": [
    "read_csv(): This function is used to read data from a CSV file into a pandas DataFrame.\n",
    "\n",
    "import pandas as pd\n",
    "\n",
    "# Read data from a CSV file into a DataFrame\n",
    "df = pd.read_csv('data.csv')\n",
    "print(df.head())\n",
    "head(): This function is used to display the first few rows of a DataFrame.\n",
    "\n",
    "import pandas as pd\n",
    "\n",
    "# Create a DataFrame\n",
    "data = {'A': [1, 2, 3, 4, 5],\n",
    "        'B': ['a', 'b', 'c', 'd', 'e']}\n",
    "df = pd.DataFrame(data)\n",
    "\n",
    "# Display the first few rows of the DataFrame\n",
    "print(df.head())\n",
    "info(): This function provides a concise summary of a DataFrame, including the data types and non-null values of each column.\n",
    "\n",
    "import pandas as pd\n",
    "\n",
    "# Create a DataFrame\n",
    "data = {'A': [1, 2, 3, 4, 5],\n",
    "        'B': ['a', 'b', 'c', 'd', 'e']}\n",
    "df = pd.DataFrame(data)\n",
    "\n",
    "# Display information about the DataFrame\n",
    "print(df.info())\n",
    "describe(): This function generates descriptive statistics of a DataFrame, including measures of central tendency, dispersion, and shape of the distribution.\n",
    "\n",
    "import pandas as pd\n",
    "\n",
    "# Create a DataFrame\n",
    "data = {'A': [1, 2, 3, 4, 5],\n",
    "        'B': ['a', 'b', 'c', 'd', 'e']}\n",
    "df = pd.DataFrame(data)\n",
    "\n",
    "# Display descriptive statistics of the DataFrame\n",
    "print(df.describe())\n",
    "fillna(): This function is used to fill missing values in a DataFrame with a specified value or method.\n",
    "\n",
    "import pandas as pd\n",
    "import numpy as np\n",
    "\n",
    "# Create a DataFrame with missing values\n",
    "data = {'A': [1, np.nan, 3, np.nan, 5],\n",
    "        'B': ['a', 'b', np.nan, 'd', 'e']}\n",
    "df = pd.DataFrame(data)\n",
    "\n",
    "# Fill missing values with a specified value (e.g., 0)\n",
    "df_filled = df.fillna(0)\n",
    "print(df_filled)"
   ]
  },
  {
   "cell_type": "markdown",
   "id": "7789f051-8d9d-403e-8d59-da75101b4686",
   "metadata": {},
   "source": [
    "## Q2. Given a Pandas DataFrame df with columns 'A', 'B', and 'C', write a Python function to re-index the\n",
    "DataFrame with a new index that starts from 1 and increments by 2 for each row."
   ]
  },
  {
   "cell_type": "code",
   "execution_count": null,
   "id": "4d5b91fc-1e35-4d31-a0ca-891cf451e48b",
   "metadata": {},
   "outputs": [],
   "source": [
    "You can achieve this by using the index attribute of the DataFrame and setting it to a new index created using a custom function. Here's a Python function to re-index the DataFrame with a new index that starts from 1 and increments by 2 for each row:\n",
    "\n",
    "\n",
    "import pandas as pd\n",
    "\n",
    "def reindex_dataframe(df):\n",
    "    # Create a new index using a custom function\n",
    "    new_index = pd.Index(range(1, len(df) * 2, 2))\n",
    "    \n",
    "    # Re-index the DataFrame\n",
    "    df.index = new_index\n",
    "    \n",
    "    return df\n",
    "\n",
    "# Example usage:\n",
    "# Create a sample DataFrame\n",
    "data = {'A': [1, 2, 3, 4, 5],\n",
    "        'B': [6, 7, 8, 9, 10],\n",
    "        'C': [11, 12, 13, 14, 15]}\n",
    "df = pd.DataFrame(data)\n",
    "\n",
    "# Re-index the DataFrame\n",
    "df_reindexed = reindex_dataframe(df)\n",
    "print(df_reindexed)\n",
    "In this function:\n",
    "\n",
    "We create a new index using pd.Index() and generate a range of indices starting from 1 and incrementing by 2 for each row in the original DataFrame.\n",
    "Then, we assign this new index to the DataFrame's index attribute."
   ]
  },
  {
   "cell_type": "markdown",
   "id": "5e3f1a83-3d7e-4720-abcb-8e13e4fc5c63",
   "metadata": {},
   "source": [
    "## Q3. You have a Pandas DataFrame df with a column named 'Values'. Write a Python function that\n",
    "iterates over the DataFrame and calculates the sum of the first three values in the 'Values' column. The\n",
    "function should print the sum to the console."
   ]
  },
  {
   "cell_type": "code",
   "execution_count": null,
   "id": "1eaf3862-c981-46ff-aa9d-f8560fe3361e",
   "metadata": {},
   "outputs": [],
   "source": [
    "import pandas as pd\n",
    "\n",
    "def sum_first_three_values(df):\n",
    "    # Initialize a variable to store the sum\n",
    "    total_sum = 0\n",
    "    \n",
    "    # Iterate over the rows of the DataFrame\n",
    "    for index, row in df.iterrows():\n",
    "        # Add the value of the 'Values' column to the total sum\n",
    "        total_sum += row['Values']\n",
    "        \n",
    "        # Break the loop after calculating the sum of the first three values\n",
    "        if index == 2:\n",
    "            break\n",
    "    \n",
    "    # Print the sum to the console\n",
    "    print(\"Sum of the first three values:\", total_sum)\n",
    "\n",
    "# Example usage:\n",
    "# Create a sample DataFrame\n",
    "data = {'Values': [1, 2, 3, 4, 5]}\n",
    "df = pd.DataFrame(data)\n",
    "\n",
    "# Call the function to calculate the sum of the first three values\n",
    "sum_first_three_values(df)"
   ]
  }
 ],
 "metadata": {
  "kernelspec": {
   "display_name": "Python 3 (ipykernel)",
   "language": "python",
   "name": "python3"
  },
  "language_info": {
   "codemirror_mode": {
    "name": "ipython",
    "version": 3
   },
   "file_extension": ".py",
   "mimetype": "text/x-python",
   "name": "python",
   "nbconvert_exporter": "python",
   "pygments_lexer": "ipython3",
   "version": "3.10.8"
  }
 },
 "nbformat": 4,
 "nbformat_minor": 5
}
